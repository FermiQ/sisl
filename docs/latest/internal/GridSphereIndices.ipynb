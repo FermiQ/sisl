{
 "cells": [
  {
   "cell_type": "code",
   "execution_count": 1,
   "metadata": {},
   "outputs": [],
   "source": [
    "from sympy import init_printing\n",
    "init_printing(use_unicode=True)"
   ]
  },
  {
   "cell_type": "code",
   "execution_count": 2,
   "metadata": {},
   "outputs": [],
   "source": [
    "import numpy as np\n",
    "import sympy as sy"
   ]
  },
  {
   "cell_type": "markdown",
   "metadata": {},
   "source": [
    "Here we will try and derive the equations needed to find all indices of a sphere inside the `Grid`.\n",
    "\n",
    "The `Grid` is defined by a `dcell` which are the offsets for each voxel. Simultaneously we have the description of a sphere which may be written as:\n",
    "\\begin{equation}\n",
    "  (x - x_0) ^2 + (y - y_0) ^2 + (z-z_0)^2 = R^2\n",
    "\\end{equation}\n",
    "\n",
    "In the following we will try and find the integers that defines the voxel positions."
   ]
  },
  {
   "cell_type": "code",
   "execution_count": 3,
   "metadata": {},
   "outputs": [],
   "source": [
    "a0, a1, a2 = sy.symbols('a:3', real=True, constant=True)\n",
    "a = sy.Matrix([a0, a1, a2])\n",
    "b0, b1, b2 = sy.symbols('b:3', real=True, constant=True)\n",
    "b = sy.Matrix([b0, b1, b2])\n",
    "c0, c1, c2 = sy.symbols('c:3', real=True, constant=True)\n",
    "c = sy.Matrix([c0, c1, c2])\n",
    "m_dot = a.cross(b).dot(c)"
   ]
  },
  {
   "cell_type": "code",
   "execution_count": 4,
   "metadata": {},
   "outputs": [],
   "source": [
    "x, y, z = sy.symbols('x y z', real=True)\n",
    "E = sy.Matrix([x, y, z])\n",
    "R = sy.symbols('R', real=True, positive=True, constant=True)\n",
    "i0, i1, i2 = sy.symbols('i:3', real=True)"
   ]
  },
  {
   "cell_type": "code",
   "execution_count": 5,
   "metadata": {},
   "outputs": [],
   "source": [
    "sphere = x ** 2 + y ** 2 + z ** 2 - R ** 2\n",
    "xi = x - (a0 * i0 + b0 * i1 + c0 * i2)\n",
    "yi = y - (a1 * i0 + b1 * i1 + c1 * i2)\n",
    "zi = z - (a2 * i0 + b2 * i1 + c2 * i2)\n",
    "sphere_i = (x - xi) ** 2 + (y - yi) ** 2 + (z - zi) ** 2 - R ** 2"
   ]
  },
  {
   "cell_type": "code",
   "execution_count": 6,
   "metadata": {},
   "outputs": [],
   "source": [
    "sol = sy.solve([sphere, xi, yi, zi], [i0, i1, i2])\n",
    "sol_xyz = sy.solve([sphere_i, xi, yi, zi], [x, y, z])"
   ]
  },
  {
   "cell_type": "code",
   "execution_count": 7,
   "metadata": {},
   "outputs": [
    {
     "data": {
      "image/png": "[encoded data removed]",
      "text/latex": [
       "$\\displaystyle \\frac{x \\left(b_{1} c_{2} - b_{2} c_{1}\\right) - y \\left(b_{0} c_{2} - b_{2} c_{0}\\right) + z \\left(b_{0} c_{1} - b_{1} c_{0}\\right)}{a_{0} b_{1} c_{2} - a_{0} b_{2} c_{1} - a_{1} b_{0} c_{2} + a_{1} b_{2} c_{0} + a_{2} b_{0} c_{1} - a_{2} b_{1} c_{0}}$"
      ],
      "text/plain": [
       "   x⋅(b₁⋅c₂ - b₂⋅c₁) - y⋅(b₀⋅c₂ - b₂⋅c₀) + z⋅(b₀⋅c₁ - b₁⋅c₀)   \n",
       "───────────────────────────────────────────────────────────────\n",
       "a₀⋅b₁⋅c₂ - a₀⋅b₂⋅c₁ - a₁⋅b₀⋅c₂ + a₁⋅b₂⋅c₀ + a₂⋅b₀⋅c₁ - a₂⋅b₁⋅c₀"
      ]
     },
     "execution_count": 7,
     "metadata": {},
     "output_type": "execute_result"
    }
   ],
   "source": [
    "sol[i0]"
   ]
  },
  {
   "cell_type": "code",
   "execution_count": 8,
   "metadata": {},
   "outputs": [
    {
     "data": {
      "image/png": "[encoded data removed]",
      "text/latex": [
       "$\\displaystyle 0$"
      ],
      "text/plain": [
       "0"
      ]
     },
     "execution_count": 8,
     "metadata": {},
     "output_type": "execute_result"
    }
   ],
   "source": [
    "sy.simplify(sol[i0] - E.cross(b).dot(c) / m_dot)"
   ]
  },
  {
   "cell_type": "code",
   "execution_count": 9,
   "metadata": {},
   "outputs": [
    {
     "data": {
      "image/png": "[encoded data removed]",
      "text/latex": [
       "$\\displaystyle \\frac{- x \\left(a_{1} c_{2} - a_{2} c_{1}\\right) + y \\left(a_{0} c_{2} - a_{2} c_{0}\\right) - z \\left(a_{0} c_{1} - a_{1} c_{0}\\right)}{a_{0} b_{1} c_{2} - a_{0} b_{2} c_{1} - a_{1} b_{0} c_{2} + a_{1} b_{2} c_{0} + a_{2} b_{0} c_{1} - a_{2} b_{1} c_{0}}$"
      ],
      "text/plain": [
       "   -x⋅(a₁⋅c₂ - a₂⋅c₁) + y⋅(a₀⋅c₂ - a₂⋅c₀) - z⋅(a₀⋅c₁ - a₁⋅c₀)  \n",
       "───────────────────────────────────────────────────────────────\n",
       "a₀⋅b₁⋅c₂ - a₀⋅b₂⋅c₁ - a₁⋅b₀⋅c₂ + a₁⋅b₂⋅c₀ + a₂⋅b₀⋅c₁ - a₂⋅b₁⋅c₀"
      ]
     },
     "execution_count": 9,
     "metadata": {},
     "output_type": "execute_result"
    }
   ],
   "source": [
    "sol[i1]"
   ]
  },
  {
   "cell_type": "code",
   "execution_count": 10,
   "metadata": {},
   "outputs": [
    {
     "data": {
      "image/png": "[encoded data removed]",
      "text/latex": [
       "$\\displaystyle 0$"
      ],
      "text/plain": [
       "0"
      ]
     },
     "execution_count": 10,
     "metadata": {},
     "output_type": "execute_result"
    }
   ],
   "source": [
    "sy.simplify(sol[i1] - E.cross(c).dot(a) / m_dot)"
   ]
  },
  {
   "cell_type": "code",
   "execution_count": 11,
   "metadata": {},
   "outputs": [
    {
     "data": {
      "image/png": "[encoded data removed]",
      "text/latex": [
       "$\\displaystyle \\frac{x \\left(a_{1} b_{2} - a_{2} b_{1}\\right) - y \\left(a_{0} b_{2} - a_{2} b_{0}\\right) + z \\left(a_{0} b_{1} - a_{1} b_{0}\\right)}{a_{0} b_{1} c_{2} - a_{0} b_{2} c_{1} - a_{1} b_{0} c_{2} + a_{1} b_{2} c_{0} + a_{2} b_{0} c_{1} - a_{2} b_{1} c_{0}}$"
      ],
      "text/plain": [
       "   x⋅(a₁⋅b₂ - a₂⋅b₁) - y⋅(a₀⋅b₂ - a₂⋅b₀) + z⋅(a₀⋅b₁ - a₁⋅b₀)   \n",
       "───────────────────────────────────────────────────────────────\n",
       "a₀⋅b₁⋅c₂ - a₀⋅b₂⋅c₁ - a₁⋅b₀⋅c₂ + a₁⋅b₂⋅c₀ + a₂⋅b₀⋅c₁ - a₂⋅b₁⋅c₀"
      ]
     },
     "execution_count": 11,
     "metadata": {},
     "output_type": "execute_result"
    }
   ],
   "source": [
    "sol[i2]"
   ]
  },
  {
   "cell_type": "code",
   "execution_count": 12,
   "metadata": {},
   "outputs": [
    {
     "data": {
      "image/png": "[encoded data removed]",
      "text/latex": [
       "$\\displaystyle 0$"
      ],
      "text/plain": [
       "0"
      ]
     },
     "execution_count": 12,
     "metadata": {},
     "output_type": "execute_result"
    }
   ],
   "source": [
    "sy.simplify(sol[i2] - E.cross(a).dot(b) / m_dot)"
   ]
  },
  {
   "cell_type": "code",
   "execution_count": 13,
   "metadata": {},
   "outputs": [
    {
     "data": {
      "image/png": "[encoded data removed]",
      "text/latex": [
       "$\\displaystyle \\frac{\\left(a_{0} \\left(- c_{1} z + c_{2} y\\right) + a_{1} \\left(c_{0} z - c_{2} x\\right) + a_{2} \\left(- c_{0} y + c_{1} x\\right)\\right)^{2} + \\left(b_{0} \\left(- a_{1} z + a_{2} y\\right) + b_{1} \\left(a_{0} z - a_{2} x\\right) + b_{2} \\left(- a_{0} y + a_{1} x\\right)\\right)^{2} + \\left(c_{0} \\left(- b_{1} z + b_{2} y\\right) + c_{1} \\left(b_{0} z - b_{2} x\\right) + c_{2} \\left(- b_{0} y + b_{1} x\\right)\\right)^{2}}{\\left(c_{0} \\left(a_{1} b_{2} - a_{2} b_{1}\\right) + c_{1} \\left(- a_{0} b_{2} + a_{2} b_{0}\\right) + c_{2} \\left(a_{0} b_{1} - a_{1} b_{0}\\right)\\right)^{2}}$"
      ],
      "text/plain": [
       "                                                          2                   \n",
       "(a₀⋅(-c₁⋅z + c₂⋅y) + a₁⋅(c₀⋅z - c₂⋅x) + a₂⋅(-c₀⋅y + c₁⋅x))  + (b₀⋅(-a₁⋅z + a₂⋅\n",
       "──────────────────────────────────────────────────────────────────────────────\n",
       "                                                                              \n",
       "                                                            (c₀⋅(a₁⋅b₂ - a₂⋅b₁\n",
       "\n",
       "                                          2                                   \n",
       "y) + b₁⋅(a₀⋅z - a₂⋅x) + b₂⋅(-a₀⋅y + a₁⋅x))  + (c₀⋅(-b₁⋅z + b₂⋅y) + c₁⋅(b₀⋅z - \n",
       "──────────────────────────────────────────────────────────────────────────────\n",
       "                                             2                                \n",
       ") + c₁⋅(-a₀⋅b₂ + a₂⋅b₀) + c₂⋅(a₀⋅b₁ - a₁⋅b₀))                                 \n",
       "\n",
       "                          2\n",
       "b₂⋅x) + c₂⋅(-b₀⋅y + b₁⋅x)) \n",
       "───────────────────────────\n",
       "                           \n",
       "                           "
      ]
     },
     "execution_count": 13,
     "metadata": {},
     "output_type": "execute_result"
    }
   ],
   "source": [
    "(E.cross(b).dot(c) ** 2 + E.cross(c).dot(a) ** 2 + E.cross(a).dot(b) ** 2) / m_dot ** 2"
   ]
  },
  {
   "cell_type": "code",
   "execution_count": 14,
   "metadata": {},
   "outputs": [
    {
     "name": "stdout",
     "output_type": "stream",
     "text": [
      "{x: a0*i0 + b0*i1 + c0*i2, y: a1*i0 + b1*i1 + c1*i2, z: a2*i0 + b2*i1 + c2*i2}\n"
     ]
    }
   ],
   "source": [
    "print(sol_xyz)"
   ]
  },
  {
   "cell_type": "code",
   "execution_count": null,
   "metadata": {},
   "outputs": [],
   "source": []
  }
 ],
 "metadata": {
  "kernelspec": {
   "display_name": "Python 3",
   "language": "python",
   "name": "python3"
  },
  "language_info": {
   "codemirror_mode": {
    "name": "ipython",
    "version": 3
   },
   "file_extension": ".py",
   "mimetype": "text/x-python",
   "name": "python",
   "nbconvert_exporter": "python",
   "pygments_lexer": "ipython3",
   "version": "3.8.5"
  }
 },
 "nbformat": 4,
 "nbformat_minor": 2
}
