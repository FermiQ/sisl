{
 "cells": [
  {
   "cell_type": "code",
   "execution_count": 1,
   "metadata": {},
   "outputs": [],
   "source": [
    "import os\n",
    "os.chdir('siesta_3')\n",
    "import numpy as np\n",
    "from sisl import *\n",
    "import matplotlib.pyplot as plt\n",
    "%matplotlib inline"
   ]
  },
  {
   "cell_type": "markdown",
   "metadata": {},
   "source": [
    "# Siesta ---  creating initial DM input\n",
    "\n",
    "This tutorial will describe how one can re-use a density matrix file (DM) from a primary unit-cell and tile it to create a bigger initial DM file for restart capabilities in bigger calculations.\n",
    "\n",
    "The outline of the procedure is something like this:\n",
    "\n",
    "1. Calculate the electronic structure (DM) for the primary cell of interest\n",
    "2. Use `sisl` to read in the DM, then tile/repeate and manipulate the DM at will\n",
    "3. Write out the finalized DM that will be used in the final calculation and restart the calculation.\n",
    "\n",
    "\n",
    "## Creating the geometry\n",
    "\n",
    "Our system of interest will be the smallest graphene cell, and we will expand it to a bigger one with an atom removed."
   ]
  },
  {
   "cell_type": "code",
   "execution_count": 2,
   "metadata": {},
   "outputs": [],
   "source": [
    "graphene = geom.graphene(1.44)"
   ]
  },
  {
   "cell_type": "markdown",
   "metadata": {},
   "source": [
    "Let us plot the geometry."
   ]
  },
  {
   "cell_type": "code",
   "execution_count": 3,
   "metadata": {},
   "outputs": [
    {
     "data": {
      "text/plain": [
       "<matplotlib.axes._subplots.AxesSubplot at 0x145a397b9b70>"
      ]
     },
     "execution_count": 3,
     "metadata": {},
     "output_type": "execute_result"
    },
    {
     "data": {
      "image/png": "[encoded data removed]",
      "text/plain": [
       "<Figure size 432x288 with 1 Axes>"
      ]
     },
     "metadata": {
      "needs_background": "light"
     },
     "output_type": "display_data"
    }
   ],
   "source": [
    "plot(graphene)"
   ]
  },
  {
   "cell_type": "markdown",
   "metadata": {},
   "source": [
    "Now we need to create the input fdf file for Siesta:"
   ]
  },
  {
   "cell_type": "code",
   "execution_count": 4,
   "metadata": {},
   "outputs": [],
   "source": [
    "open('RUN.fdf', 'w').write(\"\"\"%include STRUCT.fdf\n",
    "SystemLabel siesta_3\n",
    "PAO.BasisSize SZP\n",
    "MeshCutoff 250. Ry\n",
    "CDF.Save true\n",
    "CDF.Compress 9\n",
    "SaveHS true\n",
    "SaveRho true\n",
    "%block kgrid.MonkhorstPack\n",
    "  61  1 1 0.\n",
    "   1 61 1 0.\n",
    "   0  0 1 0.\n",
    "%endblock\n",
    "\"\"\")\n",
    "graphene.write('STRUCT.fdf')"
   ]
  },
  {
   "cell_type": "markdown",
   "metadata": {},
   "source": [
    "## Creating the electronic structure\n",
    "\n",
    "Before proceeding, run Siesta to calculate the ground state electronic structure.\n",
    "\n",
    "After having completed the Siesta run we may read the Hamiltonian to manipulate and extract different information.\n",
    "After reading the Hamiltonian it is obvious that a great deal of new data has been associated with the Hamiltonian."
   ]
  },
  {
   "cell_type": "code",
   "execution_count": 21,
   "metadata": {},
   "outputs": [
    {
     "name": "stdout",
     "output_type": "stream",
     "text": [
      "[ 0.          1.44        1.44        1.44        2.49415316  2.49415316\n",
      "  2.49415316  2.49415316  2.49415316  2.49415316  2.88        2.88\n",
      "  2.88        3.80988188  3.80988188  3.80988189  3.80988189  3.80988189\n",
      "  3.80988189  4.32        4.32        4.32        4.32        4.32\n",
      "  4.32        4.98830632  4.98830632  4.98830632  4.98830632  4.98830632\n",
      "  4.98830632  5.19199383  5.19199383  5.19199383  5.19199383  5.19199384\n",
      "  5.19199384  5.76        6.27681448  6.27681448  6.598909    6.598909\n",
      "  6.598909    6.598909    7.2         8.01758068  8.01758068  8.64\n",
      "  8.64       10.08      ]\n"
     ]
    }
   ],
   "source": [
    "fdf = get_sile('RUN.fdf')\n",
    "DM = fdf.read_density_matrix()\n",
    "rij = DM.geometry.close(0, R=np.inf, ret_rij=True)[1]\n",
    "print(np.sort(rij))\n",
    "M_bulk = DM.geometry.atoms.group_atom_data(DM.mulliken())[0]"
   ]
  },
  {
   "cell_type": "markdown",
   "metadata": {},
   "source": [
    "## Creating the extended DM\n",
    "\n",
    "In this case we will duplicate the primary graphene cell 4 times along each lattice vector, and then remove one atom."
   ]
  },
  {
   "cell_type": "code",
   "execution_count": 23,
   "metadata": {},
   "outputs": [],
   "source": [
    "DM_big = DM.tile(4, 0).tile(4, 1)\n",
    "xyz_rem = DM_big.geometry.xyz[0, :]\n",
    "DM_big = DM_big.remove(0)\n",
    "g_big = DM_big.geometry"
   ]
  },
  {
   "cell_type": "markdown",
   "metadata": {},
   "source": [
    "Now we have a much bigger geometry + its associated density matrix. However, when removing an atom one also removes electrons living in the overlap region of the basis sets; between the new geometry and the removed atom. This translates to a charge loss and should be compensated in the system.  \n",
    "If Siesta reads in this DM *as is* it will compensate the charge in the entire cell. However, the most natural charge re-arrangement is typically close to the removed atom.  \n",
    "First lets check how the charge distribution looks like with respect to the neutral atom. I.e. a big "
   ]
  },
  {
   "cell_type": "code",
   "execution_count": 7,
   "metadata": {},
   "outputs": [
    {
     "data": {
      "image/png": "[encoded data removed]",
      "text/plain": [
       "<Figure size 432x288 with 1 Axes>"
      ]
     },
     "metadata": {
      "needs_background": "light"
     },
     "output_type": "display_data"
    }
   ],
   "source": [
    "M = DM_big.mulliken(\"atom\") - 4\n",
    "plt.scatter(g_big.xyz[:, 0], g_big.xyz[:, 1], color='b')\n",
    "# note we just scale enourmously.\n",
    "plt.scatter(g_big.xyz[:, 0], g_big.xyz[:, 1], np.fabs(M) * 2000, color='k', alpha=0.5);"
   ]
  },
  {
   "cell_type": "markdown",
   "metadata": {},
   "source": [
    "Let us print the total missing charge:"
   ]
  },
  {
   "cell_type": "code",
   "execution_count": 8,
   "metadata": {},
   "outputs": [
    {
     "data": {
      "text/plain": [
       "-1.3482183042176508"
      ]
     },
     "execution_count": 8,
     "metadata": {},
     "output_type": "execute_result"
    }
   ],
   "source": [
    "M.sum()"
   ]
  },
  {
   "cell_type": "markdown",
   "metadata": {},
   "source": [
    "Which means we are ~1.3 short of an electron."
   ]
  },
  {
   "cell_type": "markdown",
   "metadata": {},
   "source": [
    "### Using atomic filling\n",
    "\n",
    "When calculating the electronic structure using the default Siesta implementation you'll use *atomic fillings* for all orbitals. This will converge in approximately $106$ SCF steps."
   ]
  },
  {
   "cell_type": "markdown",
   "metadata": {},
   "source": [
    "### Correcting DM: Siesta rescaling\n",
    "\n",
    "Lets first try to run without changing the DM and thus letting Siesta rescale the entire DM"
   ]
  },
  {
   "cell_type": "code",
   "execution_count": 9,
   "metadata": {},
   "outputs": [],
   "source": [
    "DM_big.write(\"siesta_3_input.DM\")\n",
    "DM_big.geometry.write(\"STRUCT_BIG.fdf\")\n",
    "open('RUN_BIG.fdf', 'w').write(\"\"\"%include STRUCT_BIG.fdf\n",
    "SystemLabel siesta_3_big\n",
    "PAO.BasisSize SZP\n",
    "MeshCutoff 250. Ry\n",
    "CDF.Save true\n",
    "CDF.Compress 9\n",
    "SaveHS true\n",
    "SaveRho true\n",
    "WriteMullikenPop 1\n",
    "DM.UseSaveDM\n",
    "%block kgrid.MonkhorstPack\n",
    "  11  1 1 0.\n",
    "   1 11 1 0.\n",
    "   0  0 1 0.\n",
    "%endblock\n",
    "DM.MixingWeight 0.01\n",
    " \"\"\");"
   ]
  },
  {
   "cell_type": "markdown",
   "metadata": {},
   "source": [
    "### Correcting DM: $p_z$\n",
    "\n",
    "An attempt at correcting the DM will be to add the missing charges on each $p_z$ orbital in the system so that in total the system becomes charge-neutral."
   ]
  },
  {
   "cell_type": "code",
   "execution_count": 10,
   "metadata": {},
   "outputs": [],
   "source": [
    "DM_pz = DM_big.copy()\n",
    "for ia in g_big:\n",
    "    o = g_big.firsto[ia]\n",
    "    atom = g_big.atoms[ia]\n",
    "    orb = atom.index(\"pz\") # retrive all orbitals with pz name in them\n",
    "    DM_pz[o + orb, o + orb, 0] -= M[ia]"
   ]
  },
  {
   "cell_type": "code",
   "execution_count": 11,
   "metadata": {},
   "outputs": [
    {
     "data": {
      "text/plain": [
       "-2.6278410558688847e-09"
      ]
     },
     "execution_count": 11,
     "metadata": {},
     "output_type": "execute_result"
    }
   ],
   "source": [
    "M_pz = DM_pz.mulliken(\"atom\") - 4.\n",
    "M_pz.sum()"
   ]
  },
  {
   "cell_type": "markdown",
   "metadata": {},
   "source": [
    "Write out the density matrix and restart a calculation using the faked DM:"
   ]
  },
  {
   "cell_type": "code",
   "execution_count": 12,
   "metadata": {},
   "outputs": [],
   "source": [
    "DM_pz.write(\"siesta_3_pz.DM\")\n",
    "open('RUN_pz.fdf', 'w').write(\"\"\"\n",
    "SystemLabel siesta_3_pz\n",
    "%include RUN_BIG.fdf\n",
    " \"\"\");"
   ]
  },
  {
   "cell_type": "markdown",
   "metadata": {},
   "source": [
    "Now rerun `RUN_pz.fdf` and you'll find one convergence pattern. It converges in approximately $132$ steps."
   ]
  },
  {
   "cell_type": "markdown",
   "metadata": {},
   "source": [
    "### Correcting DM: $s$ and $p_z$\n",
    "\n",
    "When running the above you'll see that it is still not an effective initial guess for the final DM, instead lets loop the orbitals and redistribute charge based on both $s$ and $p_z$"
   ]
  },
  {
   "cell_type": "code",
   "execution_count": 13,
   "metadata": {},
   "outputs": [],
   "source": [
    "atoms_q = g_big.atoms.group_atom_data(DM_big.mulliken())"
   ]
  },
  {
   "cell_type": "code",
   "execution_count": 14,
   "metadata": {},
   "outputs": [
    {
     "name": "stdout",
     "output_type": "stream",
     "text": [
      "-4.480255277883316e-09\n"
     ]
    }
   ],
   "source": [
    "DM_spz = DM_big.copy()\n",
    "for ia in g_big:\n",
    "    o = g_big.firsto[ia]\n",
    "    atom = g_big.atoms[ia]\n",
    "    s = atom.index(\"s\") # retrive all orbitals with pz name in them\n",
    "    pz = atom.index(\"pz\") # retrive all orbitals with pz name in them\n",
    "    DM_spz[o + s, o + s, 0] -= M[ia] / 2\n",
    "    DM_spz[o + pz, o + pz, 0] -= M[ia] / 2\n",
    "print((DM_spz.mulliken(\"atom\") - 4).sum())"
   ]
  },
  {
   "cell_type": "code",
   "execution_count": 16,
   "metadata": {},
   "outputs": [],
   "source": [
    "DM_spz.write(\"siesta_3_spz.DM\")\n",
    "open('RUN_spz.fdf', 'w').write(\"\"\"\n",
    "SystemLabel siesta_3_spz\n",
    "%include RUN_BIG.fdf\n",
    " \"\"\");"
   ]
  },
  {
   "cell_type": "markdown",
   "metadata": {},
   "source": [
    "Now run `RUN_spz.fdf` and you'll find another convergence pattern. It converges in approximately $132$ steps."
   ]
  },
  {
   "cell_type": "markdown",
   "metadata": {},
   "source": [
    "### Correcting DM: range based\n",
    "\n",
    "In reality the DM changes depending on the distance to the *hole* and as such we should change the charges based on this (a sort of ripple effect)."
   ]
  },
  {
   "cell_type": "code",
   "execution_count": 29,
   "metadata": {},
   "outputs": [
    {
     "name": "stdout",
     "output_type": "stream",
     "text": [
      "[array([ 0, 24,  6], dtype=int32), array([ 1,  7, 23, 25,  5, 13], dtype=int32), array([30, 26, 14], dtype=int32)]\n",
      "[ 2  3  4  8  9 10 11 12 15 16 17 18 19 20 21 22 27 28 29]\n",
      "5.392873194469324\n"
     ]
    }
   ],
   "source": [
    "DM_range = DM_big.copy()\n",
    "# Retrieve ranges\n",
    "idxs = list(map(g_big.sc2uc, g_big.close(xyz_rem, R=(1.44, 2.5))))\n",
    "missing = np.delete(np.arange(len(g_big)), np.hstack(idxs))\n",
    "\n",
    "# nearest neighbours will have slightly less charge\n",
    "for ia in idxs[0]:\n",
    "    o = g_big.firsto[ia]\n",
    "    atom = g_big.atoms[ia]\n",
    "    s = atom.index(\"s\")\n",
    "    px = atom.index(\"px\")\n",
    "    py = atom.index(\"py\")\n",
    "    DM_range[o + s, o + s, 0] += 0.1\n",
    "    DM_range[o + px, o + px, 0] -= 0.03\n",
    "    DM_range[o + py, o + py, 0] -= 0.03\n",
    "\n",
    "# next-nearest neighbours will have slightly more charge\n",
    "for ia in idxs[1]:\n",
    "    o = g_big.firsto[ia]\n",
    "    atom = g_big.atoms[ia]\n",
    "    pz = atom.index(\"pz\")\n",
    "    DM_range[o + pz, o + pz, 0] += 0.04\n",
    "\n",
    "M_pz = DM_pz.mulliken(\"atom\") - 4.\n",
    "M_pz.sum()\n",
    "DM\n",
    "\n",
    "for ia in \n",
    "    o = g_big.firsto[ia]\n",
    "    atom = g_big.atoms[ia]\n",
    "    s = atom.index(\"s\")\n",
    "    px = atom.index(\"px\")\n",
    "    py = atom.index(\"py\")\n",
    "    DM_range[o + s, o + s, 0] += 0.1\n",
    "    DM_range[o + px, o + px, 0] -= 0.05\n",
    "    DM_range[o + py, o + py, 0] -= 0.05\n",
    "print((DM_spz.mulliken(\"atom\") - 4).sum())"
   ]
  },
  {
   "cell_type": "code",
   "execution_count": null,
   "metadata": {},
   "outputs": [],
   "source": []
  }
 ],
 "metadata": {
  "kernelspec": {
   "display_name": "Python 3",
   "language": "python",
   "name": "python3"
  },
  "language_info": {
   "codemirror_mode": {
    "name": "ipython",
    "version": 3
   },
   "file_extension": ".py",
   "mimetype": "text/x-python",
   "name": "python",
   "nbconvert_exporter": "python",
   "pygments_lexer": "ipython3",
   "version": "3.7.3"
  }
 },
 "nbformat": 4,
 "nbformat_minor": 2
}
